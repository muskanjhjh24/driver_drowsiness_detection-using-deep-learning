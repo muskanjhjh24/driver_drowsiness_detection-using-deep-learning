{
 "cells": [
  {
   "cell_type": "code",
   "execution_count": 7,
   "metadata": {},
   "outputs": [],
   "source": [
    "import os\n",
    "import shutil \n",
    "import glob\n",
    "from tqdm import tqdm\n"
   ]
  },
  {
   "cell_type": "markdown",
   "metadata": {},
   "source": [
    "#subject ID: xxx\n",
    "\n",
    "image number: xxx\n",
    "\n",
    "gender: 0 - male 1 - famale\n",
    "\n",
    "glasses: 0 - no 1 - yes\n",
    "\n",
    "eye state: 0 - close 1 - open\n",
    "\n",
    "reflections: 0 - none 1 - low 2 - high\n",
    "\n",
    "lighting conditions/image quality: 0 - bad 1 - good\n",
    "\n",
    "sensor type: 01 - RealSense SR300 640x480 02 - IDS Imaging, 1280x1024 03 - Aptina Imagin 752x480\n",
    "\n",
    "example: s001_00123_0_0_0_0_0_01.png"
   ]
  },
  {
   "cell_type": "code",
   "execution_count": 8,
   "metadata": {},
   "outputs": [
    {
     "name": "stderr",
     "output_type": "stream",
     "text": [
      "0it [00:00, ?it/s]\n",
      "0it [00:00, ?it/s]\n",
      "0it [00:00, ?it/s]\n",
      "0it [00:00, ?it/s]\n",
      "0it [00:00, ?it/s]\n",
      "100%|██████████| 2011/2011 [00:13<00:00, 146.06it/s]\n",
      "100%|██████████| 2244/2244 [00:15<00:00, 149.57it/s]\n",
      "0it [00:00, ?it/s]\n",
      "100%|██████████| 39935/39935 [04:47<00:00, 139.11it/s]\n",
      "100%|██████████| 40708/40708 [06:16<00:00, 108.11it/s]\n",
      "100%|██████████| 3242/3242 [00:16<00:00, 198.88it/s]\n",
      "100%|██████████| 1114/1114 [00:02<00:00, 407.31it/s]\n",
      "100%|██████████| 679/679 [00:02<00:00, 281.96it/s]\n",
      "100%|██████████| 1069/1069 [00:02<00:00, 391.61it/s]\n",
      "100%|██████████| 736/736 [00:01<00:00, 377.83it/s]\n",
      "100%|██████████| 1012/1012 [00:02<00:00, 401.23it/s]\n",
      "100%|██████████| 624/624 [00:02<00:00, 251.36it/s]\n",
      "100%|██████████| 832/832 [00:02<00:00, 393.50it/s]\n",
      "100%|██████████| 387/387 [00:01<00:00, 297.96it/s]\n",
      "100%|██████████| 399/399 [00:01<00:00, 300.88it/s]\n",
      "100%|██████████| 1648/1648 [00:03<00:00, 480.67it/s]\n",
      "100%|██████████| 8728/8728 [00:21<00:00, 410.49it/s]\n",
      "100%|██████████| 3605/3605 [00:08<00:00, 404.14it/s]\n",
      "100%|██████████| 8884/8884 [00:27<00:00, 321.94it/s]\n",
      "100%|██████████| 1132/1132 [00:03<00:00, 322.88it/s]\n",
      "100%|██████████| 1889/1889 [00:08<00:00, 224.38it/s]\n",
      "100%|██████████| 1648/1648 [00:07<00:00, 229.88it/s]\n",
      "100%|██████████| 4410/4410 [00:09<00:00, 469.67it/s]\n",
      "100%|██████████| 6175/6175 [00:32<00:00, 190.11it/s]\n",
      "100%|██████████| 704/704 [00:03<00:00, 228.42it/s]\n",
      "100%|██████████| 987/987 [00:04<00:00, 241.63it/s]\n",
      "100%|██████████| 382/382 [00:01<00:00, 232.93it/s]\n",
      "100%|██████████| 522/522 [00:01<00:00, 366.91it/s]\n",
      "100%|██████████| 752/752 [00:05<00:00, 147.53it/s]\n",
      "100%|██████████| 1502/1502 [00:06<00:00, 218.18it/s]\n",
      "100%|██████████| 1246/1246 [00:03<00:00, 362.02it/s]\n",
      "100%|██████████| 665/665 [00:01<00:00, 374.35it/s]\n",
      "100%|██████████| 736/736 [00:02<00:00, 324.88it/s]\n",
      "100%|██████████| 1393/1393 [00:04<00:00, 315.36it/s]\n",
      "100%|██████████| 1384/1384 [00:04<00:00, 289.65it/s]\n",
      "100%|██████████| 1738/1738 [00:06<00:00, 270.19it/s]\n",
      "100%|██████████| 6162/6162 [00:29<00:00, 209.95it/s]\n",
      "100%|██████████| 681/681 [00:02<00:00, 328.01it/s]\n",
      "100%|██████████| 739/739 [00:02<00:00, 368.54it/s]\n",
      "100%|██████████| 642/642 [00:01<00:00, 383.85it/s]\n",
      "100%|██████████| 6193/6193 [00:14<00:00, 439.98it/s]\n",
      "100%|██████████| 10257/10257 [00:22<00:00, 453.37it/s]\n"
     ]
    }
   ],
   "source": [
    "RAW_DIR = r'C:\\Users\\muskan jhunjhunwala\\Desktop\\driver drowsiness\\mrlEyes_2018_01'\n",
    "for dirpath,dirname, filenames in os.walk(RAW_DIR):\n",
    "    for i in tqdm([f for f in filenames if f.endswith('.png')]): \n",
    "        if i.split('_')[4]=='0':   #spliting 4th index of image as closed or open eyes\n",
    "            shutil.copy(src=dirpath +'/'+i, dst=r'C:\\Users\\muskan jhunjhunwala\\Desktop\\driver drowsiness\\mrlEyes_2018_01\\prepared_data\\close_eyes')   \n",
    "        \n",
    "        \n",
    "        elif i.split('_')[4] == '1':\n",
    "            shutil.copy(src=dirpath +'/'+i, dst=r'C:\\Users\\muskan jhunjhunwala\\Desktop\\driver drowsiness\\mrlEyes_2018_01\\prepared_data\\open_eyes')"
   ]
  },
  {
   "cell_type": "code",
   "execution_count": null,
   "metadata": {},
   "outputs": [],
   "source": [
    "# tqdm for loading bar"
   ]
  }
 ],
 "metadata": {
  "kernelspec": {
   "display_name": "Python 3.9.6 64-bit",
   "language": "python",
   "name": "python3"
  },
  "language_info": {
   "codemirror_mode": {
    "name": "ipython",
    "version": 3
   },
   "file_extension": ".py",
   "mimetype": "text/x-python",
   "name": "python",
   "nbconvert_exporter": "python",
   "pygments_lexer": "ipython3",
   "version": "3.9.6"
  },
  "orig_nbformat": 4,
  "vscode": {
   "interpreter": {
    "hash": "df3a83ed347d5bca39312a472e112d896ce90394a3a782d78dae4aa36b0edd4c"
   }
  }
 },
 "nbformat": 4,
 "nbformat_minor": 2
}
